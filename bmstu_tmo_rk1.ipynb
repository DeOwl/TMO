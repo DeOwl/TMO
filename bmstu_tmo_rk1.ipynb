version https://git-lfs.github.com/spec/v1
oid sha256:8a83dc03469f52006e265ff0d00bc7dbed10707d38cc2154996ea40c0079391c
size 109685
